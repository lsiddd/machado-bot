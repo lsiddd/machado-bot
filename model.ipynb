{
 "cells": [
  {
   "cell_type": "code",
   "execution_count": 3,
   "metadata": {},
   "outputs": [],
   "source": [
    "from keras.preprocessing.text import Tokenizer\n",
    "import numpy as np\n",
    "from keras.utils import to_categorical\n",
    "from keras.models import Sequential\n",
    "from keras.layers import Dense, LSTM, Embedding, Dropout\n",
    "from pickle import dump,load\n",
    "from keras.callbacks import ModelCheckpoint\n",
    "from keras import optimizers\n",
    "from keras.models import load_model"
   ]
  },
  {
   "cell_type": "code",
   "execution_count": 6,
   "metadata": {},
   "outputs": [],
   "source": [
    "\n",
    "text = read_file('./machado_preprocessed.txt')\n",
    "tokens = text.split(\" \")\n",
    "#  tokens.pop(0)"
   ]
  },
  {
   "cell_type": "code",
   "execution_count": 5,
   "metadata": {},
   "outputs": [],
   "source": [
    "def read_file(filepath):\n",
    "\twith open(filepath) as f:\n",
    "\t\tstr_text = f.read()\n",
    "\treturn str_text"
   ]
  },
  {
   "cell_type": "code",
   "execution_count": 7,
   "metadata": {},
   "outputs": [],
   "source": [
    "train_len = 4\n",
    "text_sequences = []\n",
    "for i in range(train_len,len(tokens)):\n",
    "    seq = tokens[i-train_len:i]\n",
    "    text_sequences.append(seq)"
   ]
  },
  {
   "cell_type": "code",
   "execution_count": 8,
   "metadata": {},
   "outputs": [],
   "source": [
    "sequences = {}\n",
    "count = 1\n",
    "for i in range(len(tokens)):\n",
    "    if tokens[i] not in sequences:\n",
    "        sequences[tokens[i]] = count\n",
    "        count += 1\n",
    "        "
   ]
  },
  {
   "cell_type": "code",
   "execution_count": 9,
   "metadata": {},
   "outputs": [],
   "source": [
    "tokenizer = Tokenizer()\n",
    "tokenizer.fit_on_texts(text_sequences)\n",
    "sequences = tokenizer.texts_to_sequences(text_sequences) \n",
    "\n",
    "#Collecting some information   \n",
    "unique_words = tokenizer.index_word\n",
    "unique_wordsApp = tokenizer.word_counts\n",
    "vocabulary_size = len(tokenizer.word_counts)"
   ]
  },
  {
   "cell_type": "code",
   "execution_count": 10,
   "metadata": {},
   "outputs": [],
   "source": [
    "n_sequences = np.empty([len(sequences),train_len], dtype='int32')\n",
    "for i in range(len(sequences)):\n",
    "    n_sequences[i] = sequences[i]"
   ]
  },
  {
   "cell_type": "code",
   "execution_count": 11,
   "metadata": {},
   "outputs": [
    {
     "data": {
      "text/plain": [
       "(44431, 3)"
      ]
     },
     "execution_count": 11,
     "metadata": {},
     "output_type": "execute_result"
    }
   ],
   "source": [
    "train_inputs = n_sequences[:,:-1]\n",
    "train_targets = n_sequences[:,-1]\n",
    "\n",
    "train_targets = to_categorical(train_targets, num_classes=vocabulary_size+1)\n",
    "seq_len = train_inputs.shape[1]\n",
    "train_inputs.shape"
   ]
  },
  {
   "cell_type": "code",
   "execution_count": 12,
   "metadata": {},
   "outputs": [],
   "source": [
    "def create_model(vocabulary_size, seq_len):\n",
    "    model = Sequential()\n",
    "    model.add(Embedding(vocabulary_size, seq_len,input_length=seq_len))\n",
    "    model.add(LSTM(100,return_sequences=True))\n",
    "    model.add(LSTM(100))\n",
    "    model.add(Dense(1000,activation='relu'))\n",
    "    model.add(Dropout(0.2))\n",
    "    model.add(Dense(100,activation='relu'))\n",
    "    model.add(Dropout(0.2))\n",
    "    model.add(Dense(vocabulary_size,activation='softmax'))\n",
    "    opt_adam = optimizers.adam(lr=0.001)\n",
    "    #You can simply pass 'adam' to optimizer in compile method. Default learning rate 0.001\n",
    "    #But here we are using adam optimzer from optimizer class to change the LR.\n",
    "    model.compile(loss='categorical_crossentropy',optimizer=opt_adam,metrics=['accuracy'])\n",
    "    model.summary()\n",
    "    return model"
   ]
  },
  {
   "cell_type": "code",
   "execution_count": 13,
   "metadata": {},
   "outputs": [],
   "source": [
    "dump(tokenizer,open('machado_tokenizer_Model4','wb'))\n"
   ]
  },
  {
   "cell_type": "code",
   "execution_count": 14,
   "metadata": {
    "scrolled": false
   },
   "outputs": [
    {
     "name": "stdout",
     "output_type": "stream",
     "text": [
      "Model: \"sequential_1\"\n",
      "_________________________________________________________________\n",
      "Layer (type)                 Output Shape              Param #   \n",
      "=================================================================\n",
      "embedding_1 (Embedding)      (None, 3, 3)              3849      \n",
      "_________________________________________________________________\n",
      "lstm_1 (LSTM)                (None, 3, 100)            41600     \n",
      "_________________________________________________________________\n",
      "lstm_2 (LSTM)                (None, 100)               80400     \n",
      "_________________________________________________________________\n",
      "dense_1 (Dense)              (None, 1000)              101000    \n",
      "_________________________________________________________________\n",
      "dropout_1 (Dropout)          (None, 1000)              0         \n",
      "_________________________________________________________________\n",
      "dense_2 (Dense)              (None, 100)               100100    \n",
      "_________________________________________________________________\n",
      "dropout_2 (Dropout)          (None, 100)               0         \n",
      "_________________________________________________________________\n",
      "dense_3 (Dense)              (None, 1283)              129583    \n",
      "=================================================================\n",
      "Total params: 456,532\n",
      "Trainable params: 456,532\n",
      "Non-trainable params: 0\n",
      "_________________________________________________________________\n",
      "WARNING:tensorflow:From /home/sid/.local/lib/python3.7/site-packages/keras/backend/tensorflow_backend.py:422: The name tf.global_variables is deprecated. Please use tf.compat.v1.global_variables instead.\n",
      "\n",
      "Train on 29768 samples, validate on 14663 samples\n",
      "Epoch 1/40\n",
      "29768/29768 [==============================] - 5s 163us/step - loss: 6.0328 - accuracy: 0.0598 - val_loss: 5.9907 - val_accuracy: 0.0599\n",
      "\n",
      "Epoch 00001: loss improved from inf to 6.03277, saving model to ./checkpoints/word_pred_Model4.h5\n",
      "Epoch 2/40\n",
      "29768/29768 [==============================] - 5s 160us/step - loss: 5.8391 - accuracy: 0.0611 - val_loss: 5.9657 - val_accuracy: 0.0599\n",
      "\n",
      "Epoch 00002: loss improved from 6.03277 to 5.83914, saving model to ./checkpoints/word_pred_Model4.h5\n",
      "Epoch 3/40\n",
      "29768/29768 [==============================] - 5s 174us/step - loss: 5.8282 - accuracy: 0.0624 - val_loss: 5.9893 - val_accuracy: 0.0599\n",
      "\n",
      "Epoch 00003: loss improved from 5.83914 to 5.82820, saving model to ./checkpoints/word_pred_Model4.h5\n",
      "Epoch 4/40\n",
      "29768/29768 [==============================] - 5s 173us/step - loss: 5.8144 - accuracy: 0.0622 - val_loss: 5.9808 - val_accuracy: 0.0599\n",
      "\n",
      "Epoch 00004: loss improved from 5.82820 to 5.81445, saving model to ./checkpoints/word_pred_Model4.h5\n",
      "Epoch 5/40\n",
      "29768/29768 [==============================] - 4s 146us/step - loss: 5.8003 - accuracy: 0.0620 - val_loss: 5.9786 - val_accuracy: 0.0599\n",
      "\n",
      "Epoch 00005: loss improved from 5.81445 to 5.80033, saving model to ./checkpoints/word_pred_Model4.h5\n",
      "Epoch 6/40\n",
      "29768/29768 [==============================] - 5s 154us/step - loss: 5.7813 - accuracy: 0.0624 - val_loss: 5.9788 - val_accuracy: 0.0599\n",
      "\n",
      "Epoch 00006: loss improved from 5.80033 to 5.78127, saving model to ./checkpoints/word_pred_Model4.h5\n",
      "Epoch 7/40\n",
      "29768/29768 [==============================] - 4s 132us/step - loss: 5.7708 - accuracy: 0.0622 - val_loss: 5.9935 - val_accuracy: 0.0599\n",
      "\n",
      "Epoch 00007: loss improved from 5.78127 to 5.77079, saving model to ./checkpoints/word_pred_Model4.h5\n",
      "Epoch 8/40\n",
      "29768/29768 [==============================] - 4s 132us/step - loss: 5.7538 - accuracy: 0.0624 - val_loss: 5.9531 - val_accuracy: 0.0567\n",
      "\n",
      "Epoch 00008: loss improved from 5.77079 to 5.75377, saving model to ./checkpoints/word_pred_Model4.h5\n",
      "Epoch 9/40\n",
      "29768/29768 [==============================] - 4s 138us/step - loss: 5.7152 - accuracy: 0.0635 - val_loss: 5.9297 - val_accuracy: 0.0589\n",
      "\n",
      "Epoch 00009: loss improved from 5.75377 to 5.71517, saving model to ./checkpoints/word_pred_Model4.h5\n",
      "Epoch 10/40\n",
      "29768/29768 [==============================] - 5s 166us/step - loss: 5.6887 - accuracy: 0.0640 - val_loss: 5.9224 - val_accuracy: 0.0574\n",
      "\n",
      "Epoch 00010: loss improved from 5.71517 to 5.68870, saving model to ./checkpoints/word_pred_Model4.h5\n",
      "Epoch 11/40\n",
      "29768/29768 [==============================] - 5s 151us/step - loss: 5.6664 - accuracy: 0.0654 - val_loss: 5.9120 - val_accuracy: 0.0597\n",
      "\n",
      "Epoch 00011: loss improved from 5.68870 to 5.66644, saving model to ./checkpoints/word_pred_Model4.h5\n",
      "Epoch 12/40\n",
      "29768/29768 [==============================] - 5s 153us/step - loss: 5.6501 - accuracy: 0.0653 - val_loss: 5.9074 - val_accuracy: 0.0593\n",
      "\n",
      "Epoch 00012: loss improved from 5.66644 to 5.65007, saving model to ./checkpoints/word_pred_Model4.h5\n",
      "Epoch 13/40\n",
      "29768/29768 [==============================] - 5s 155us/step - loss: 5.6349 - accuracy: 0.0654 - val_loss: 5.9253 - val_accuracy: 0.0621\n",
      "\n",
      "Epoch 00013: loss improved from 5.65007 to 5.63490, saving model to ./checkpoints/word_pred_Model4.h5\n",
      "Epoch 14/40\n",
      "29768/29768 [==============================] - 5s 159us/step - loss: 5.6193 - accuracy: 0.0678 - val_loss: 5.9395 - val_accuracy: 0.0618\n",
      "\n",
      "Epoch 00014: loss improved from 5.63490 to 5.61926, saving model to ./checkpoints/word_pred_Model4.h5\n",
      "Epoch 15/40\n",
      "29768/29768 [==============================] - 4s 142us/step - loss: 5.6011 - accuracy: 0.0678 - val_loss: 5.9069 - val_accuracy: 0.0640\n",
      "\n",
      "Epoch 00015: loss improved from 5.61926 to 5.60106, saving model to ./checkpoints/word_pred_Model4.h5\n",
      "Epoch 16/40\n",
      "29768/29768 [==============================] - 4s 139us/step - loss: 5.5815 - accuracy: 0.0702 - val_loss: 5.9217 - val_accuracy: 0.0669\n",
      "\n",
      "Epoch 00016: loss improved from 5.60106 to 5.58150, saving model to ./checkpoints/word_pred_Model4.h5\n",
      "Epoch 17/40\n",
      "29768/29768 [==============================] - 4s 140us/step - loss: 5.5578 - accuracy: 0.0716 - val_loss: 5.9435 - val_accuracy: 0.0703\n",
      "\n",
      "Epoch 00017: loss improved from 5.58150 to 5.55780, saving model to ./checkpoints/word_pred_Model4.h5\n",
      "Epoch 18/40\n",
      "29768/29768 [==============================] - 4s 137us/step - loss: 5.5390 - accuracy: 0.0732 - val_loss: 5.9188 - val_accuracy: 0.0704\n",
      "\n",
      "Epoch 00018: loss improved from 5.55780 to 5.53896, saving model to ./checkpoints/word_pred_Model4.h5\n",
      "Epoch 19/40\n",
      "29768/29768 [==============================] - 4s 138us/step - loss: 5.5127 - accuracy: 0.0741 - val_loss: 5.9615 - val_accuracy: 0.0687\n",
      "\n",
      "Epoch 00019: loss improved from 5.53896 to 5.51266, saving model to ./checkpoints/word_pred_Model4.h5\n",
      "Epoch 20/40\n",
      "29768/29768 [==============================] - 4s 143us/step - loss: 5.4914 - accuracy: 0.0741 - val_loss: 5.9353 - val_accuracy: 0.0709\n",
      "\n",
      "Epoch 00020: loss improved from 5.51266 to 5.49141, saving model to ./checkpoints/word_pred_Model4.h5\n",
      "Epoch 21/40\n",
      "29768/29768 [==============================] - 5s 158us/step - loss: 5.4742 - accuracy: 0.0760 - val_loss: 5.9360 - val_accuracy: 0.0785\n",
      "\n",
      "Epoch 00021: loss improved from 5.49141 to 5.47419, saving model to ./checkpoints/word_pred_Model4.h5\n",
      "Epoch 22/40\n",
      "29768/29768 [==============================] - 5s 157us/step - loss: 5.4526 - accuracy: 0.0776 - val_loss: 5.9318 - val_accuracy: 0.0739\n",
      "\n",
      "Epoch 00022: loss improved from 5.47419 to 5.45258, saving model to ./checkpoints/word_pred_Model4.h5\n",
      "Epoch 23/40\n",
      "29768/29768 [==============================] - 5s 169us/step - loss: 5.4332 - accuracy: 0.0794 - val_loss: 5.9284 - val_accuracy: 0.0791\n",
      "\n",
      "Epoch 00023: loss improved from 5.45258 to 5.43323, saving model to ./checkpoints/word_pred_Model4.h5\n",
      "Epoch 24/40\n",
      "29768/29768 [==============================] - 5s 152us/step - loss: 5.4048 - accuracy: 0.0787 - val_loss: 5.9655 - val_accuracy: 0.0777\n",
      "\n",
      "Epoch 00024: loss improved from 5.43323 to 5.40482, saving model to ./checkpoints/word_pred_Model4.h5\n",
      "Epoch 25/40\n",
      "29768/29768 [==============================] - 5s 154us/step - loss: 5.3887 - accuracy: 0.0802 - val_loss: 5.9613 - val_accuracy: 0.0757\n",
      "\n",
      "Epoch 00025: loss improved from 5.40482 to 5.38873, saving model to ./checkpoints/word_pred_Model4.h5\n",
      "Epoch 26/40\n",
      "29768/29768 [==============================] - 4s 146us/step - loss: 5.3625 - accuracy: 0.0809 - val_loss: 6.0057 - val_accuracy: 0.0704\n",
      "\n",
      "Epoch 00026: loss improved from 5.38873 to 5.36254, saving model to ./checkpoints/word_pred_Model4.h5\n",
      "Epoch 27/40\n"
     ]
    },
    {
     "name": "stdout",
     "output_type": "stream",
     "text": [
      "29768/29768 [==============================] - 4s 151us/step - loss: 5.3416 - accuracy: 0.0822 - val_loss: 5.9996 - val_accuracy: 0.0722\n",
      "\n",
      "Epoch 00027: loss improved from 5.36254 to 5.34160, saving model to ./checkpoints/word_pred_Model4.h5\n",
      "Epoch 28/40\n",
      "29768/29768 [==============================] - 5s 151us/step - loss: 5.3149 - accuracy: 0.0817 - val_loss: 6.0451 - val_accuracy: 0.0743\n",
      "\n",
      "Epoch 00028: loss improved from 5.34160 to 5.31486, saving model to ./checkpoints/word_pred_Model4.h5\n",
      "Epoch 29/40\n",
      "29768/29768 [==============================] - 5s 168us/step - loss: 5.2942 - accuracy: 0.0816 - val_loss: 6.0341 - val_accuracy: 0.0768\n",
      "\n",
      "Epoch 00029: loss improved from 5.31486 to 5.29416, saving model to ./checkpoints/word_pred_Model4.h5\n",
      "Epoch 30/40\n",
      "29768/29768 [==============================] - 5s 170us/step - loss: 5.2738 - accuracy: 0.0833 - val_loss: 6.0469 - val_accuracy: 0.0805\n",
      "\n",
      "Epoch 00030: loss improved from 5.29416 to 5.27375, saving model to ./checkpoints/word_pred_Model4.h5\n",
      "Epoch 31/40\n",
      "29768/29768 [==============================] - 5s 161us/step - loss: 5.2508 - accuracy: 0.0839 - val_loss: 6.0877 - val_accuracy: 0.0736\n",
      "\n",
      "Epoch 00031: loss improved from 5.27375 to 5.25084, saving model to ./checkpoints/word_pred_Model4.h5\n",
      "Epoch 32/40\n",
      "29768/29768 [==============================] - 5s 162us/step - loss: 5.2281 - accuracy: 0.0837 - val_loss: 6.1125 - val_accuracy: 0.0768\n",
      "\n",
      "Epoch 00032: loss improved from 5.25084 to 5.22807, saving model to ./checkpoints/word_pred_Model4.h5\n",
      "Epoch 33/40\n",
      "29768/29768 [==============================] - 5s 157us/step - loss: 5.2098 - accuracy: 0.0840 - val_loss: 6.0881 - val_accuracy: 0.0762\n",
      "\n",
      "Epoch 00033: loss improved from 5.22807 to 5.20982, saving model to ./checkpoints/word_pred_Model4.h5\n",
      "Epoch 34/40\n",
      "29768/29768 [==============================] - 5s 159us/step - loss: 5.1916 - accuracy: 0.0847 - val_loss: 6.1715 - val_accuracy: 0.0799\n",
      "\n",
      "Epoch 00034: loss improved from 5.20982 to 5.19161, saving model to ./checkpoints/word_pred_Model4.h5\n",
      "Epoch 35/40\n",
      "29768/29768 [==============================] - 4s 150us/step - loss: 5.1710 - accuracy: 0.0840 - val_loss: 6.2098 - val_accuracy: 0.0735\n",
      "\n",
      "Epoch 00035: loss improved from 5.19161 to 5.17104, saving model to ./checkpoints/word_pred_Model4.h5\n",
      "Epoch 36/40\n",
      "29768/29768 [==============================] - 5s 154us/step - loss: 5.1480 - accuracy: 0.0850 - val_loss: 6.2078 - val_accuracy: 0.0804\n",
      "\n",
      "Epoch 00036: loss improved from 5.17104 to 5.14799, saving model to ./checkpoints/word_pred_Model4.h5\n",
      "Epoch 37/40\n",
      "29768/29768 [==============================] - 5s 154us/step - loss: 5.1296 - accuracy: 0.0853 - val_loss: 6.2576 - val_accuracy: 0.0754\n",
      "\n",
      "Epoch 00037: loss improved from 5.14799 to 5.12957, saving model to ./checkpoints/word_pred_Model4.h5\n",
      "Epoch 38/40\n",
      "29768/29768 [==============================] - 4s 150us/step - loss: 5.1087 - accuracy: 0.0878 - val_loss: 6.2772 - val_accuracy: 0.0755\n",
      "\n",
      "Epoch 00038: loss improved from 5.12957 to 5.10869, saving model to ./checkpoints/word_pred_Model4.h5\n",
      "Epoch 39/40\n",
      "29768/29768 [==============================] - 5s 156us/step - loss: 5.0879 - accuracy: 0.0869 - val_loss: 6.3157 - val_accuracy: 0.0767\n",
      "\n",
      "Epoch 00039: loss improved from 5.10869 to 5.08790, saving model to ./checkpoints/word_pred_Model4.h5\n",
      "Epoch 40/40\n",
      "29768/29768 [==============================] - 4s 144us/step - loss: 5.0699 - accuracy: 0.0870 - val_loss: 6.3452 - val_accuracy: 0.0750\n",
      "\n",
      "Epoch 00040: loss improved from 5.08790 to 5.06987, saving model to ./checkpoints/word_pred_Model4.h5\n"
     ]
    }
   ],
   "source": [
    "model = create_model(vocabulary_size+1,seq_len)\n",
    "path = './checkpoints/word_pred_Model4.h5'\n",
    "checkpoint = ModelCheckpoint(path, monitor='loss', verbose=1, save_best_only=True, mode='min')\n",
    "history = model.fit(train_inputs,train_targets,batch_size=128,epochs=40,verbose=1,callbacks=[checkpoint], validation_split=0.33)\n",
    "model.save('machado_modell4.h5')"
   ]
  },
  {
   "cell_type": "code",
   "execution_count": 19,
   "metadata": {},
   "outputs": [
    {
     "data": {
      "image/png": "[encoded data removed]",
      "text/plain": [
       "<Figure size 640x480 with 1 Axes>"
      ]
     },
     "metadata": {},
     "output_type": "display_data"
    }
   ],
   "source": [
    "from matplotlib import pyplot\n",
    "\n",
    "# history = model.fit(X, Y, epochs=100, validation_data=(valX, valY))\n",
    "pyplot.style.use(\"classic\")\n",
    "pyplot.grid()\n",
    "pyplot.plot(history.history['loss'])\n",
    "pyplot.plot(history.history['val_loss'])\n",
    "pyplot.title('model train vs validation loss')\n",
    "pyplot.ylabel('loss')\n",
    "pyplot.xlabel('epoch')\n",
    "pyplot.legend(['train', 'validation'], loc='upper right')\n",
    "pyplot.show()"
   ]
  }
 ],
 "metadata": {
  "kernelspec": {
   "display_name": "Python 3",
   "language": "python",
   "name": "python3"
  },
  "language_info": {
   "codemirror_mode": {
    "name": "ipython",
    "version": 3
   },
   "file_extension": ".py",
   "mimetype": "text/x-python",
   "name": "python",
   "nbconvert_exporter": "python",
   "pygments_lexer": "ipython3",
   "version": "3.7.5"
  }
 },
 "nbformat": 4,
 "nbformat_minor": 2
}
