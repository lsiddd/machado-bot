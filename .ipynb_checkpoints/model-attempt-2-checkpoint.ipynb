{
 "cells": [
  {
   "cell_type": "code",
   "execution_count": 1,
   "metadata": {
    "collapsed": true
   },
   "outputs": [
    {
     "name": "stderr",
     "output_type": "stream",
     "text": [
      "Using TensorFlow backend.\n",
      "/home/sid/.local/lib/python3.7/site-packages/tensorflow/python/framework/dtypes.py:516: FutureWarning: Passing (type, 1) or '1type' as a synonym of type is deprecated; in a future version of numpy, it will be understood as (type, (1,)) / '(1,)type'.\n",
      "  _np_qint8 = np.dtype([(\"qint8\", np.int8, 1)])\n",
      "/home/sid/.local/lib/python3.7/site-packages/tensorflow/python/framework/dtypes.py:517: FutureWarning: Passing (type, 1) or '1type' as a synonym of type is deprecated; in a future version of numpy, it will be understood as (type, (1,)) / '(1,)type'.\n",
      "  _np_quint8 = np.dtype([(\"quint8\", np.uint8, 1)])\n",
      "/home/sid/.local/lib/python3.7/site-packages/tensorflow/python/framework/dtypes.py:518: FutureWarning: Passing (type, 1) or '1type' as a synonym of type is deprecated; in a future version of numpy, it will be understood as (type, (1,)) / '(1,)type'.\n",
      "  _np_qint16 = np.dtype([(\"qint16\", np.int16, 1)])\n",
      "/home/sid/.local/lib/python3.7/site-packages/tensorflow/python/framework/dtypes.py:519: FutureWarning: Passing (type, 1) or '1type' as a synonym of type is deprecated; in a future version of numpy, it will be understood as (type, (1,)) / '(1,)type'.\n",
      "  _np_quint16 = np.dtype([(\"quint16\", np.uint16, 1)])\n",
      "/home/sid/.local/lib/python3.7/site-packages/tensorflow/python/framework/dtypes.py:520: FutureWarning: Passing (type, 1) or '1type' as a synonym of type is deprecated; in a future version of numpy, it will be understood as (type, (1,)) / '(1,)type'.\n",
      "  _np_qint32 = np.dtype([(\"qint32\", np.int32, 1)])\n",
      "/home/sid/.local/lib/python3.7/site-packages/tensorflow/python/framework/dtypes.py:525: FutureWarning: Passing (type, 1) or '1type' as a synonym of type is deprecated; in a future version of numpy, it will be understood as (type, (1,)) / '(1,)type'.\n",
      "  np_resource = np.dtype([(\"resource\", np.ubyte, 1)])\n",
      "/home/sid/.local/lib/python3.7/site-packages/tensorboard/compat/tensorflow_stub/dtypes.py:541: FutureWarning: Passing (type, 1) or '1type' as a synonym of type is deprecated; in a future version of numpy, it will be understood as (type, (1,)) / '(1,)type'.\n",
      "  _np_qint8 = np.dtype([(\"qint8\", np.int8, 1)])\n",
      "/home/sid/.local/lib/python3.7/site-packages/tensorboard/compat/tensorflow_stub/dtypes.py:542: FutureWarning: Passing (type, 1) or '1type' as a synonym of type is deprecated; in a future version of numpy, it will be understood as (type, (1,)) / '(1,)type'.\n",
      "  _np_quint8 = np.dtype([(\"quint8\", np.uint8, 1)])\n",
      "/home/sid/.local/lib/python3.7/site-packages/tensorboard/compat/tensorflow_stub/dtypes.py:543: FutureWarning: Passing (type, 1) or '1type' as a synonym of type is deprecated; in a future version of numpy, it will be understood as (type, (1,)) / '(1,)type'.\n",
      "  _np_qint16 = np.dtype([(\"qint16\", np.int16, 1)])\n",
      "/home/sid/.local/lib/python3.7/site-packages/tensorboard/compat/tensorflow_stub/dtypes.py:544: FutureWarning: Passing (type, 1) or '1type' as a synonym of type is deprecated; in a future version of numpy, it will be understood as (type, (1,)) / '(1,)type'.\n",
      "  _np_quint16 = np.dtype([(\"quint16\", np.uint16, 1)])\n",
      "/home/sid/.local/lib/python3.7/site-packages/tensorboard/compat/tensorflow_stub/dtypes.py:545: FutureWarning: Passing (type, 1) or '1type' as a synonym of type is deprecated; in a future version of numpy, it will be understood as (type, (1,)) / '(1,)type'.\n",
      "  _np_qint32 = np.dtype([(\"qint32\", np.int32, 1)])\n",
      "/home/sid/.local/lib/python3.7/site-packages/tensorboard/compat/tensorflow_stub/dtypes.py:550: FutureWarning: Passing (type, 1) or '1type' as a synonym of type is deprecated; in a future version of numpy, it will be understood as (type, (1,)) / '(1,)type'.\n",
      "  np_resource = np.dtype([(\"resource\", np.ubyte, 1)])\n"
     ]
    }
   ],
   "source": [
    "from keras.preprocessing.text import Tokenizer\n",
    "import numpy as np\n",
    "from keras.utils import to_categorical\n",
    "from keras.models import Sequential\n",
    "from keras.layers import Dense, LSTM, Embedding, Dropout\n",
    "from pickle import dump,load\n",
    "from keras.callbacks import ModelCheckpoint\n",
    "from keras import optimizers\n",
    "from keras.models import load_model"
   ]
  },
  {
   "cell_type": "code",
   "execution_count": 3,
   "metadata": {},
   "outputs": [],
   "source": [
    "\n",
    "text = read_file('./machado_preprocessed.txt')\n",
    "tokens = text.split(\" \")\n",
    "#  tokens.pop(0)"
   ]
  },
  {
   "cell_type": "code",
   "execution_count": 2,
   "metadata": {},
   "outputs": [],
   "source": [
    "def read_file(filepath):\n",
    "\twith open(filepath) as f:\n",
    "\t\tstr_text = f.read()\n",
    "\treturn str_text"
   ]
  },
  {
   "cell_type": "code",
   "execution_count": 4,
   "metadata": {},
   "outputs": [],
   "source": [
    "train_len = 4\n",
    "text_sequences = []\n",
    "for i in range(train_len,len(tokens)):\n",
    "    seq = tokens[i-train_len:i]\n",
    "    text_sequences.append(seq)"
   ]
  },
  {
   "cell_type": "code",
   "execution_count": 5,
   "metadata": {},
   "outputs": [],
   "source": [
    "sequences = {}\n",
    "count = 1\n",
    "for i in range(len(tokens)):\n",
    "    if tokens[i] not in sequences:\n",
    "        sequences[tokens[i]] = count\n",
    "        count += 1\n",
    "        "
   ]
  },
  {
   "cell_type": "code",
   "execution_count": 6,
   "metadata": {},
   "outputs": [],
   "source": [
    "tokenizer = Tokenizer()\n",
    "tokenizer.fit_on_texts(text_sequences)\n",
    "sequences = tokenizer.texts_to_sequences(text_sequences) \n",
    "\n",
    "#Collecting some information   \n",
    "unique_words = tokenizer.index_word\n",
    "unique_wordsApp = tokenizer.word_counts\n",
    "vocabulary_size = len(tokenizer.word_counts)"
   ]
  },
  {
   "cell_type": "code",
   "execution_count": 7,
   "metadata": {},
   "outputs": [],
   "source": [
    "n_sequences = np.empty([len(sequences),train_len], dtype='int32')\n",
    "for i in range(len(sequences)):\n",
    "    n_sequences[i] = sequences[i]"
   ]
  },
  {
   "cell_type": "code",
   "execution_count": 8,
   "metadata": {},
   "outputs": [
    {
     "data": {
      "text/plain": [
       "(44431, 3)"
      ]
     },
     "execution_count": 8,
     "metadata": {},
     "output_type": "execute_result"
    }
   ],
   "source": [
    "train_inputs = n_sequences[:,:-1]\n",
    "train_targets = n_sequences[:,-1]\n",
    "\n",
    "train_targets = to_categorical(train_targets, num_classes=vocabulary_size+1)\n",
    "seq_len = train_inputs.shape[1]\n",
    "train_inputs.shape"
   ]
  },
  {
   "cell_type": "code",
   "execution_count": 29,
   "metadata": {},
   "outputs": [],
   "source": [
    "def create_model(vocabulary_size, seq_len):\n",
    "    model = Sequential()\n",
    "    model.add(Embedding(vocabulary_size, seq_len,input_length=seq_len))\n",
    "    model.add(LSTM(100,return_sequences=True))\n",
    "#     model.add(LSTM(100))\n",
    "    model.add(Dense(100,activation='relu'))\n",
    "    model.add(Dropout(0.2))\n",
    "    model.add(Dense(vocabulary_size,activation='softmax'))\n",
    "    opt_adam = optimizers.adam(lr=0.001)\n",
    "    #You can simply pass 'adam' to optimizer in compile method. Default learning rate 0.001\n",
    "    #But here we are using adam optimzer from optimizer class to change the LR.\n",
    "    model.compile(loss='categorical_crossentropy',optimizer=opt_adam,metrics=['accuracy'])\n",
    "    model.summary()\n",
    "    return model"
   ]
  },
  {
   "cell_type": "code",
   "execution_count": 30,
   "metadata": {},
   "outputs": [],
   "source": [
    "dump(tokenizer,open('machado_tokenizer_Model4','wb'))\n"
   ]
  },
  {
   "cell_type": "code",
   "execution_count": 31,
   "metadata": {
    "scrolled": false
   },
   "outputs": [
    {
     "name": "stdout",
     "output_type": "stream",
     "text": [
      "Model: \"sequential_7\"\n",
      "_________________________________________________________________\n",
      "Layer (type)                 Output Shape              Param #   \n",
      "=================================================================\n",
      "embedding_7 (Embedding)      (None, 3, 3)              3849      \n",
      "_________________________________________________________________\n",
      "lstm_11 (LSTM)               (None, 3, 100)            41600     \n",
      "_________________________________________________________________\n",
      "lstm_12 (LSTM)               (None, 100)               80400     \n",
      "_________________________________________________________________\n",
      "dense_28 (Dense)             (None, 100)               10100     \n",
      "_________________________________________________________________\n",
      "dropout_1 (Dropout)          (None, 100)               0         \n",
      "_________________________________________________________________\n",
      "dense_29 (Dense)             (None, 100)               10100     \n",
      "_________________________________________________________________\n",
      "dropout_2 (Dropout)          (None, 100)               0         \n",
      "_________________________________________________________________\n",
      "dense_30 (Dense)             (None, 100)               10100     \n",
      "_________________________________________________________________\n",
      "dropout_3 (Dropout)          (None, 100)               0         \n",
      "_________________________________________________________________\n",
      "dense_31 (Dense)             (None, 100)               10100     \n",
      "_________________________________________________________________\n",
      "dropout_4 (Dropout)          (None, 100)               0         \n",
      "_________________________________________________________________\n",
      "dense_32 (Dense)             (None, 100)               10100     \n",
      "_________________________________________________________________\n",
      "dropout_5 (Dropout)          (None, 100)               0         \n",
      "_________________________________________________________________\n",
      "dense_33 (Dense)             (None, 100)               10100     \n",
      "_________________________________________________________________\n",
      "dropout_6 (Dropout)          (None, 100)               0         \n",
      "_________________________________________________________________\n",
      "dense_34 (Dense)             (None, 1283)              129583    \n",
      "_________________________________________________________________\n",
      "dropout_7 (Dropout)          (None, 1283)              0         \n",
      "=================================================================\n",
      "Total params: 316,032\n",
      "Trainable params: 316,032\n",
      "Non-trainable params: 0\n",
      "_________________________________________________________________\n",
      "WARNING:tensorflow:From /home/sid/.local/lib/python3.7/site-packages/tensorflow/python/ops/math_grad.py:1250: add_dispatch_support.<locals>.wrapper (from tensorflow.python.ops.array_ops) is deprecated and will be removed in a future version.\n",
      "Instructions for updating:\n",
      "Use tf.where in 2.0, which has the same broadcast rule as np.where\n",
      "Train on 29768 samples, validate on 14663 samples\n",
      "Epoch 1/40\n",
      "29768/29768 [==============================] - 6s 196us/step - loss: 7.8993 - accuracy: 0.0558 - val_loss: 5.9884 - val_accuracy: 0.0599\n",
      "\n",
      "Epoch 00001: loss improved from inf to 7.89926, saving model to ./checkpoints/word_pred_Model4.h5\n",
      "Epoch 2/40\n",
      "29768/29768 [==============================] - 4s 150us/step - loss: 7.7490 - accuracy: 0.0583 - val_loss: 5.9719 - val_accuracy: 0.0599\n",
      "\n",
      "Epoch 00002: loss improved from 7.89926 to 7.74901, saving model to ./checkpoints/word_pred_Model4.h5\n",
      "Epoch 3/40\n",
      "29768/29768 [==============================] - 5s 160us/step - loss: 7.6983 - accuracy: 0.0582 - val_loss: 5.9814 - val_accuracy: 0.0599\n",
      "\n",
      "Epoch 00003: loss improved from 7.74901 to 7.69828, saving model to ./checkpoints/word_pred_Model4.h5\n",
      "Epoch 4/40\n",
      "29768/29768 [==============================] - 5s 154us/step - loss: 7.7058 - accuracy: 0.0578 - val_loss: 5.9722 - val_accuracy: 0.0599\n",
      "\n",
      "Epoch 00004: loss did not improve from 7.69828\n",
      "Epoch 5/40\n",
      "29768/29768 [==============================] - 4s 146us/step - loss: 7.6908 - accuracy: 0.0576 - val_loss: 5.9708 - val_accuracy: 0.0599\n",
      "\n",
      "Epoch 00005: loss improved from 7.69828 to 7.69080, saving model to ./checkpoints/word_pred_Model4.h5\n",
      "Epoch 6/40\n",
      "29768/29768 [==============================] - 5s 167us/step - loss: 7.6661 - accuracy: 0.0584 - val_loss: 5.9953 - val_accuracy: 0.0599\n",
      "\n",
      "Epoch 00006: loss improved from 7.69080 to 7.66608, saving model to ./checkpoints/word_pred_Model4.h5\n",
      "Epoch 7/40\n",
      "29768/29768 [==============================] - 5s 180us/step - loss: 7.6737 - accuracy: 0.0577 - val_loss: 5.9671 - val_accuracy: 0.0599\n",
      "\n",
      "Epoch 00007: loss did not improve from 7.66608\n",
      "Epoch 8/40\n",
      "29768/29768 [==============================] - 5s 172us/step - loss: 7.6721 - accuracy: 0.0571 - val_loss: 5.9746 - val_accuracy: 0.0604\n",
      "\n",
      "Epoch 00008: loss did not improve from 7.66608\n",
      "Epoch 9/40\n",
      "29768/29768 [==============================] - 5s 160us/step - loss: 7.6421 - accuracy: 0.0593 - val_loss: 5.9505 - val_accuracy: 0.0593\n",
      "\n",
      "Epoch 00009: loss improved from 7.66608 to 7.64212, saving model to ./checkpoints/word_pred_Model4.h5\n",
      "Epoch 10/40\n",
      "29768/29768 [==============================] - 4s 147us/step - loss: 7.6142 - accuracy: 0.0601 - val_loss: 5.9463 - val_accuracy: 0.0599\n",
      "\n",
      "Epoch 00010: loss improved from 7.64212 to 7.61423, saving model to ./checkpoints/word_pred_Model4.h5\n",
      "Epoch 11/40\n",
      "29768/29768 [==============================] - 4s 143us/step - loss: 7.6305 - accuracy: 0.0597 - val_loss: 5.9344 - val_accuracy: 0.0611\n",
      "\n",
      "Epoch 00011: loss did not improve from 7.61423\n",
      "Epoch 12/40\n",
      "29768/29768 [==============================] - 4s 149us/step - loss: 7.6400 - accuracy: 0.0592 - val_loss: 5.9165 - val_accuracy: 0.0607\n",
      "\n",
      "Epoch 00012: loss did not improve from 7.61423\n",
      "Epoch 13/40\n",
      "29768/29768 [==============================] - 5s 155us/step - loss: 7.5927 - accuracy: 0.0613 - val_loss: 5.9070 - val_accuracy: 0.0626\n",
      "\n",
      "Epoch 00013: loss improved from 7.61423 to 7.59267, saving model to ./checkpoints/word_pred_Model4.h5\n",
      "Epoch 14/40\n",
      "29768/29768 [==============================] - 5s 158us/step - loss: 7.6043 - accuracy: 0.0606 - val_loss: 5.9049 - val_accuracy: 0.0651\n",
      "\n",
      "Epoch 00014: loss did not improve from 7.59267\n",
      "Epoch 15/40\n",
      "29768/29768 [==============================] - 5s 160us/step - loss: 7.5516 - accuracy: 0.0624 - val_loss: 5.9070 - val_accuracy: 0.0651\n",
      "\n",
      "Epoch 00015: loss improved from 7.59267 to 7.55158, saving model to ./checkpoints/word_pred_Model4.h5\n",
      "Epoch 16/40\n",
      "29768/29768 [==============================] - 4s 140us/step - loss: 7.5586 - accuracy: 0.0624 - val_loss: 5.9241 - val_accuracy: 0.0682\n",
      "\n",
      "Epoch 00016: loss did not improve from 7.55158\n",
      "Epoch 17/40\n",
      "29768/29768 [==============================] - 4s 146us/step - loss: 7.5573 - accuracy: 0.0630 - val_loss: 5.8864 - val_accuracy: 0.0736\n",
      "\n",
      "Epoch 00017: loss did not improve from 7.55158\n",
      "Epoch 18/40\n",
      "29768/29768 [==============================] - 5s 159us/step - loss: 7.5798 - accuracy: 0.0636 - val_loss: 5.8988 - val_accuracy: 0.0710\n",
      "\n",
      "Epoch 00018: loss did not improve from 7.55158\n",
      "Epoch 19/40\n",
      "29768/29768 [==============================] - 5s 151us/step - loss: 7.5330 - accuracy: 0.0641 - val_loss: 5.9040 - val_accuracy: 0.0719\n",
      "\n",
      "Epoch 00019: loss improved from 7.55158 to 7.53304, saving model to ./checkpoints/word_pred_Model4.h5\n",
      "Epoch 20/40\n",
      "29768/29768 [==============================] - 4s 143us/step - loss: 7.5375 - accuracy: 0.0639 - val_loss: 5.8917 - val_accuracy: 0.0703\n",
      "\n",
      "Epoch 00020: loss did not improve from 7.53304\n",
      "Epoch 21/40\n",
      "29768/29768 [==============================] - 4s 149us/step - loss: 7.5452 - accuracy: 0.0637 - val_loss: 5.9014 - val_accuracy: 0.0730\n",
      "\n",
      "Epoch 00021: loss did not improve from 7.53304\n",
      "Epoch 22/40\n",
      "29768/29768 [==============================] - 5s 154us/step - loss: 7.5254 - accuracy: 0.0643 - val_loss: 5.9069 - val_accuracy: 0.0754\n",
      "\n",
      "Epoch 00022: loss improved from 7.53304 to 7.52544, saving model to ./checkpoints/word_pred_Model4.h5\n",
      "Epoch 23/40\n",
      "29768/29768 [==============================] - 4s 138us/step - loss: 7.5089 - accuracy: 0.0654 - val_loss: 5.9166 - val_accuracy: 0.0739\n",
      "\n",
      "Epoch 00023: loss improved from 7.52544 to 7.50893, saving model to ./checkpoints/word_pred_Model4.h5\n",
      "Epoch 24/40\n"
     ]
    },
    {
     "name": "stdout",
     "output_type": "stream",
     "text": [
      "29768/29768 [==============================] - 4s 141us/step - loss: 7.5417 - accuracy: 0.0646 - val_loss: 5.8960 - val_accuracy: 0.0751\n",
      "\n",
      "Epoch 00024: loss did not improve from 7.50893\n",
      "Epoch 25/40\n",
      "29768/29768 [==============================] - 4s 150us/step - loss: 7.5083 - accuracy: 0.0648 - val_loss: 5.8936 - val_accuracy: 0.0787\n",
      "\n",
      "Epoch 00025: loss improved from 7.50893 to 7.50827, saving model to ./checkpoints/word_pred_Model4.h5\n",
      "Epoch 26/40\n",
      "29768/29768 [==============================] - 4s 149us/step - loss: 7.5215 - accuracy: 0.0657 - val_loss: 5.9273 - val_accuracy: 0.0775\n",
      "\n",
      "Epoch 00026: loss did not improve from 7.50827\n",
      "Epoch 27/40\n",
      "29768/29768 [==============================] - 5s 154us/step - loss: 7.4799 - accuracy: 0.0663 - val_loss: 5.8776 - val_accuracy: 0.0769\n",
      "\n",
      "Epoch 00027: loss improved from 7.50827 to 7.47986, saving model to ./checkpoints/word_pred_Model4.h5\n",
      "Epoch 28/40\n",
      "29768/29768 [==============================] - 4s 138us/step - loss: 7.5170 - accuracy: 0.0656 - val_loss: 5.9025 - val_accuracy: 0.0779\n",
      "\n",
      "Epoch 00028: loss did not improve from 7.47986\n",
      "Epoch 29/40\n",
      "29768/29768 [==============================] - 4s 147us/step - loss: 7.5218 - accuracy: 0.0673 - val_loss: 5.9058 - val_accuracy: 0.0685\n",
      "\n",
      "Epoch 00029: loss did not improve from 7.47986\n",
      "Epoch 30/40\n",
      "29768/29768 [==============================] - 5s 157us/step - loss: 7.4908 - accuracy: 0.0653 - val_loss: 5.9121 - val_accuracy: 0.0781\n",
      "\n",
      "Epoch 00030: loss did not improve from 7.47986\n",
      "Epoch 31/40\n",
      "29768/29768 [==============================] - 5s 153us/step - loss: 7.4895 - accuracy: 0.0670 - val_loss: 5.9207 - val_accuracy: 0.0762\n",
      "\n",
      "Epoch 00031: loss did not improve from 7.47986\n",
      "Epoch 32/40\n",
      "29768/29768 [==============================] - 5s 151us/step - loss: 7.4661 - accuracy: 0.0657 - val_loss: 5.9153 - val_accuracy: 0.0718\n",
      "\n",
      "Epoch 00032: loss improved from 7.47986 to 7.46606, saving model to ./checkpoints/word_pred_Model4.h5\n",
      "Epoch 33/40\n",
      "29768/29768 [==============================] - 4s 144us/step - loss: 7.4586 - accuracy: 0.0660 - val_loss: 5.9325 - val_accuracy: 0.0750\n",
      "\n",
      "Epoch 00033: loss improved from 7.46606 to 7.45863, saving model to ./checkpoints/word_pred_Model4.h5\n",
      "Epoch 34/40\n",
      "29768/29768 [==============================] - 4s 138us/step - loss: 7.4388 - accuracy: 0.0681 - val_loss: 5.9273 - val_accuracy: 0.0757\n",
      "\n",
      "Epoch 00034: loss improved from 7.45863 to 7.43884, saving model to ./checkpoints/word_pred_Model4.h5\n",
      "Epoch 35/40\n",
      "29768/29768 [==============================] - 4s 145us/step - loss: 7.4730 - accuracy: 0.0656 - val_loss: 5.9402 - val_accuracy: 0.0758\n",
      "\n",
      "Epoch 00035: loss did not improve from 7.43884\n",
      "Epoch 36/40\n",
      "29768/29768 [==============================] - 4s 149us/step - loss: 7.4462 - accuracy: 0.0663 - val_loss: 5.9429 - val_accuracy: 0.0765\n",
      "\n",
      "Epoch 00036: loss did not improve from 7.43884\n",
      "Epoch 37/40\n",
      "29768/29768 [==============================] - 4s 150us/step - loss: 7.4192 - accuracy: 0.0681 - val_loss: 5.9204 - val_accuracy: 0.0761\n",
      "\n",
      "Epoch 00037: loss improved from 7.43884 to 7.41918, saving model to ./checkpoints/word_pred_Model4.h5\n",
      "Epoch 38/40\n",
      "29768/29768 [==============================] - 5s 159us/step - loss: 7.4158 - accuracy: 0.0685 - val_loss: 5.9420 - val_accuracy: 0.0707\n",
      "\n",
      "Epoch 00038: loss improved from 7.41918 to 7.41580, saving model to ./checkpoints/word_pred_Model4.h5\n",
      "Epoch 39/40\n",
      "29768/29768 [==============================] - 4s 143us/step - loss: 7.4068 - accuracy: 0.0688 - val_loss: 5.9416 - val_accuracy: 0.0711\n",
      "\n",
      "Epoch 00039: loss improved from 7.41580 to 7.40683, saving model to ./checkpoints/word_pred_Model4.h5\n",
      "Epoch 40/40\n",
      "29768/29768 [==============================] - 4s 138us/step - loss: 7.4066 - accuracy: 0.0661 - val_loss: 5.9643 - val_accuracy: 0.0717\n",
      "\n",
      "Epoch 00040: loss improved from 7.40683 to 7.40656, saving model to ./checkpoints/word_pred_Model4.h5\n"
     ]
    }
   ],
   "source": [
    "model = create_model(vocabulary_size+1,seq_len)\n",
    "path = './checkpoints/word_pred_Model4.h5'\n",
    "checkpoint = ModelCheckpoint(path, monitor='loss', verbose=1, save_best_only=True, mode='min')\n",
    "history = model.fit(train_inputs,train_targets,batch_size=128,epochs=40,verbose=1,callbacks=[checkpoint], validation_split=0.33)\n",
    "model.save('machado_modell4.h5')"
   ]
  },
  {
   "cell_type": "code",
   "execution_count": 28,
   "metadata": {},
   "outputs": [
    {
     "data": {
      "image/png": "[encoded data removed]",
      "text/plain": [
       "<Figure size 640x480 with 1 Axes>"
      ]
     },
     "metadata": {},
     "output_type": "display_data"
    }
   ],
   "source": [
    "from matplotlib import pyplot\n",
    "\n",
    "# history = model.fit(X, Y, epochs=100, validation_data=(valX, valY))\n",
    "pyplot.style.use(\"classic\")\n",
    "pyplot.grid()\n",
    "pyplot.plot(history.history['loss'])\n",
    "pyplot.plot(history.history['val_loss'])\n",
    "pyplot.title('model train vs validation loss')\n",
    "pyplot.ylabel('loss')\n",
    "pyplot.xlabel('epoch')\n",
    "pyplot.legend(['train', 'validation'], loc='upper right')\n",
    "pyplot.show()"
   ]
  }
 ],
 "metadata": {
  "kernelspec": {
   "display_name": "Python 3",
   "language": "python",
   "name": "python3"
  },
  "language_info": {
   "codemirror_mode": {
    "name": "ipython",
    "version": 3
   },
   "file_extension": ".py",
   "mimetype": "text/x-python",
   "name": "python",
   "nbconvert_exporter": "python",
   "pygments_lexer": "ipython3",
   "version": "3.7.5"
  }
 },
 "nbformat": 4,
 "nbformat_minor": 2
}
