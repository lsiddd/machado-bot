{
 "cells": [
  {
   "cell_type": "code",
   "execution_count": 1,
   "metadata": {
    "scrolled": true
   },
   "outputs": [
    {
     "name": "stderr",
     "output_type": "stream",
     "text": [
      "Using TensorFlow backend.\n",
      "/home/sid/.local/lib/python3.7/site-packages/tensorflow/python/framework/dtypes.py:516: FutureWarning: Passing (type, 1) or '1type' as a synonym of type is deprecated; in a future version of numpy, it will be understood as (type, (1,)) / '(1,)type'.\n",
      "  _np_qint8 = np.dtype([(\"qint8\", np.int8, 1)])\n",
      "/home/sid/.local/lib/python3.7/site-packages/tensorflow/python/framework/dtypes.py:517: FutureWarning: Passing (type, 1) or '1type' as a synonym of type is deprecated; in a future version of numpy, it will be understood as (type, (1,)) / '(1,)type'.\n",
      "  _np_quint8 = np.dtype([(\"quint8\", np.uint8, 1)])\n",
      "/home/sid/.local/lib/python3.7/site-packages/tensorflow/python/framework/dtypes.py:518: FutureWarning: Passing (type, 1) or '1type' as a synonym of type is deprecated; in a future version of numpy, it will be understood as (type, (1,)) / '(1,)type'.\n",
      "  _np_qint16 = np.dtype([(\"qint16\", np.int16, 1)])\n",
      "/home/sid/.local/lib/python3.7/site-packages/tensorflow/python/framework/dtypes.py:519: FutureWarning: Passing (type, 1) or '1type' as a synonym of type is deprecated; in a future version of numpy, it will be understood as (type, (1,)) / '(1,)type'.\n",
      "  _np_quint16 = np.dtype([(\"quint16\", np.uint16, 1)])\n",
      "/home/sid/.local/lib/python3.7/site-packages/tensorflow/python/framework/dtypes.py:520: FutureWarning: Passing (type, 1) or '1type' as a synonym of type is deprecated; in a future version of numpy, it will be understood as (type, (1,)) / '(1,)type'.\n",
      "  _np_qint32 = np.dtype([(\"qint32\", np.int32, 1)])\n",
      "/home/sid/.local/lib/python3.7/site-packages/tensorflow/python/framework/dtypes.py:525: FutureWarning: Passing (type, 1) or '1type' as a synonym of type is deprecated; in a future version of numpy, it will be understood as (type, (1,)) / '(1,)type'.\n",
      "  np_resource = np.dtype([(\"resource\", np.ubyte, 1)])\n",
      "/home/sid/.local/lib/python3.7/site-packages/tensorboard/compat/tensorflow_stub/dtypes.py:541: FutureWarning: Passing (type, 1) or '1type' as a synonym of type is deprecated; in a future version of numpy, it will be understood as (type, (1,)) / '(1,)type'.\n",
      "  _np_qint8 = np.dtype([(\"qint8\", np.int8, 1)])\n",
      "/home/sid/.local/lib/python3.7/site-packages/tensorboard/compat/tensorflow_stub/dtypes.py:542: FutureWarning: Passing (type, 1) or '1type' as a synonym of type is deprecated; in a future version of numpy, it will be understood as (type, (1,)) / '(1,)type'.\n",
      "  _np_quint8 = np.dtype([(\"quint8\", np.uint8, 1)])\n",
      "/home/sid/.local/lib/python3.7/site-packages/tensorboard/compat/tensorflow_stub/dtypes.py:543: FutureWarning: Passing (type, 1) or '1type' as a synonym of type is deprecated; in a future version of numpy, it will be understood as (type, (1,)) / '(1,)type'.\n",
      "  _np_qint16 = np.dtype([(\"qint16\", np.int16, 1)])\n",
      "/home/sid/.local/lib/python3.7/site-packages/tensorboard/compat/tensorflow_stub/dtypes.py:544: FutureWarning: Passing (type, 1) or '1type' as a synonym of type is deprecated; in a future version of numpy, it will be understood as (type, (1,)) / '(1,)type'.\n",
      "  _np_quint16 = np.dtype([(\"quint16\", np.uint16, 1)])\n",
      "/home/sid/.local/lib/python3.7/site-packages/tensorboard/compat/tensorflow_stub/dtypes.py:545: FutureWarning: Passing (type, 1) or '1type' as a synonym of type is deprecated; in a future version of numpy, it will be understood as (type, (1,)) / '(1,)type'.\n",
      "  _np_qint32 = np.dtype([(\"qint32\", np.int32, 1)])\n",
      "/home/sid/.local/lib/python3.7/site-packages/tensorboard/compat/tensorflow_stub/dtypes.py:550: FutureWarning: Passing (type, 1) or '1type' as a synonym of type is deprecated; in a future version of numpy, it will be understood as (type, (1,)) / '(1,)type'.\n",
      "  np_resource = np.dtype([(\"resource\", np.ubyte, 1)])\n"
     ]
    }
   ],
   "source": [
    "from keras.preprocessing.text import Tokenizer\n",
    "import numpy as np\n",
    "from keras.utils import to_categorical\n",
    "from keras.models import Sequential\n",
    "from keras.layers import Dense, LSTM, Embedding, Dropout, SpatialDropout1D\n",
    "from pickle import dump,load\n",
    "from keras.callbacks import ModelCheckpoint\n",
    "from keras import optimizers\n",
    "from keras.models import load_model"
   ]
  },
  {
   "cell_type": "code",
   "execution_count": 2,
   "metadata": {},
   "outputs": [],
   "source": [
    "def read_file(filepath):\n",
    "\twith open(filepath) as f:\n",
    "\t\tstr_text = f.read()\n",
    "\treturn str_text"
   ]
  },
  {
   "cell_type": "code",
   "execution_count": 3,
   "metadata": {},
   "outputs": [],
   "source": [
    "\n",
    "text = read_file('./machado_preprocessed.txt')\n",
    "tokens = text.split(\" \")\n",
    "#  tokens.pop(0)"
   ]
  },
  {
   "cell_type": "code",
   "execution_count": 4,
   "metadata": {},
   "outputs": [],
   "source": [
    "train_len = 10\n",
    "text_sequences = []\n",
    "for i in range(train_len,len(tokens)):\n",
    "    seq = tokens[i-train_len:i]\n",
    "    text_sequences.append(seq)"
   ]
  },
  {
   "cell_type": "code",
   "execution_count": 5,
   "metadata": {},
   "outputs": [],
   "source": [
    "sequences = {}\n",
    "count = 1\n",
    "for i in range(len(tokens)):\n",
    "    if tokens[i] not in sequences:\n",
    "        sequences[tokens[i]] = count\n",
    "        count += 1\n",
    "        "
   ]
  },
  {
   "cell_type": "code",
   "execution_count": 6,
   "metadata": {},
   "outputs": [],
   "source": [
    "tokenizer = Tokenizer()\n",
    "tokenizer.fit_on_texts(text_sequences)\n",
    "sequences = tokenizer.texts_to_sequences(text_sequences) \n",
    "\n",
    "#Collecting some information   \n",
    "unique_words = tokenizer.index_word\n",
    "unique_wordsApp = tokenizer.word_counts\n",
    "vocabulary_size = len(tokenizer.word_counts)"
   ]
  },
  {
   "cell_type": "code",
   "execution_count": 7,
   "metadata": {},
   "outputs": [],
   "source": [
    "n_sequences = np.empty([len(sequences),train_len], dtype='int32')\n",
    "for i in range(len(sequences)):\n",
    "    n_sequences[i] = sequences[i]"
   ]
  },
  {
   "cell_type": "code",
   "execution_count": 8,
   "metadata": {},
   "outputs": [
    {
     "data": {
      "text/plain": [
       "(44425, 9)"
      ]
     },
     "execution_count": 8,
     "metadata": {},
     "output_type": "execute_result"
    }
   ],
   "source": [
    "train_inputs = n_sequences[:,:-1]\n",
    "train_targets = n_sequences[:,-1]\n",
    "\n",
    "train_targets = to_categorical(train_targets, num_classes=vocabulary_size+1)\n",
    "seq_len = train_inputs.shape[1]\n",
    "train_inputs.shape"
   ]
  },
  {
   "cell_type": "code",
   "execution_count": 9,
   "metadata": {},
   "outputs": [],
   "source": [
    "def create_model(vocabulary_size, seq_len):\n",
    "    model = Sequential()\n",
    "    model.add(Embedding(vocabulary_size, seq_len,input_length=seq_len))\n",
    "    model.add(SpatialDropout1D(0.3))\n",
    "    model.add(LSTM(256, dropout=0.3, recurrent_dropout=0.3))\n",
    "    model.add(Dense(1000,activation='relu'))\n",
    "    model.add(Dropout(0.2))\n",
    "    model.add(Dense(vocabulary_size,activation='softmax'))\n",
    "    opt_adam = optimizers.adam(lr=0.001)\n",
    "    model.compile(loss='categorical_crossentropy',optimizer=opt_adam,metrics=['accuracy'])\n",
    "    model.summary()\n",
    "    return model"
   ]
  },
  {
   "cell_type": "code",
   "execution_count": 10,
   "metadata": {},
   "outputs": [],
   "source": [
    "dump(tokenizer,open('machado_tokenizer_Model4','wb'))\n"
   ]
  },
  {
   "cell_type": "code",
   "execution_count": 11,
   "metadata": {
    "scrolled": false
   },
   "outputs": [
    {
     "name": "stdout",
     "output_type": "stream",
     "text": [
      "Model: \"sequential_1\"\n",
      "_________________________________________________________________\n",
      "Layer (type)                 Output Shape              Param #   \n",
      "=================================================================\n",
      "embedding_1 (Embedding)      (None, 9, 9)              11547     \n",
      "_________________________________________________________________\n",
      "spatial_dropout1d_1 (Spatial (None, 9, 9)              0         \n",
      "_________________________________________________________________\n",
      "lstm_1 (LSTM)                (None, 256)               272384    \n",
      "_________________________________________________________________\n",
      "dense_1 (Dense)              (None, 1000)              257000    \n",
      "_________________________________________________________________\n",
      "dropout_1 (Dropout)          (None, 1000)              0         \n",
      "_________________________________________________________________\n",
      "dense_2 (Dense)              (None, 1283)              1284283   \n",
      "=================================================================\n",
      "Total params: 1,825,214\n",
      "Trainable params: 1,825,214\n",
      "Non-trainable params: 0\n",
      "_________________________________________________________________\n",
      "WARNING:tensorflow:From /home/sid/.local/lib/python3.7/site-packages/keras/backend/tensorflow_backend.py:422: The name tf.global_variables is deprecated. Please use tf.compat.v1.global_variables instead.\n",
      "\n",
      "Train on 29764 samples, validate on 14661 samples\n",
      "Epoch 1/40\n",
      "29764/29764 [==============================] - 21s 712us/step - loss: 5.9811 - accuracy: 0.0600 - val_loss: 5.9846 - val_accuracy: 0.0599\n",
      "\n",
      "Epoch 00001: loss improved from inf to 5.98108, saving model to ./checkpoints/word_pred_Model4.h5\n",
      "Epoch 2/40\n",
      "29764/29764 [==============================] - 22s 730us/step - loss: 5.8378 - accuracy: 0.0624 - val_loss: 5.9748 - val_accuracy: 0.0599\n",
      "\n",
      "Epoch 00002: loss improved from 5.98108 to 5.83778, saving model to ./checkpoints/word_pred_Model4.h5\n",
      "Epoch 3/40\n",
      "29764/29764 [==============================] - 24s 793us/step - loss: 5.8213 - accuracy: 0.0625 - val_loss: 5.9637 - val_accuracy: 0.0599\n",
      "\n",
      "Epoch 00003: loss improved from 5.83778 to 5.82129, saving model to ./checkpoints/word_pred_Model4.h5\n",
      "Epoch 4/40\n",
      "29764/29764 [==============================] - 21s 706us/step - loss: 5.8017 - accuracy: 0.0625 - val_loss: 5.9574 - val_accuracy: 0.0599\n",
      "\n",
      "Epoch 00004: loss improved from 5.82129 to 5.80170, saving model to ./checkpoints/word_pred_Model4.h5\n",
      "Epoch 5/40\n",
      "29764/29764 [==============================] - 25s 854us/step - loss: 5.7744 - accuracy: 0.0626 - val_loss: 5.9213 - val_accuracy: 0.0615\n",
      "\n",
      "Epoch 00005: loss improved from 5.80170 to 5.77442, saving model to ./checkpoints/word_pred_Model4.h5\n",
      "Epoch 6/40\n",
      "29764/29764 [==============================] - 23s 787us/step - loss: 5.7279 - accuracy: 0.0641 - val_loss: 5.9028 - val_accuracy: 0.0595\n",
      "\n",
      "Epoch 00006: loss improved from 5.77442 to 5.72792, saving model to ./checkpoints/word_pred_Model4.h5\n",
      "Epoch 7/40\n",
      "29764/29764 [==============================] - 22s 748us/step - loss: 5.6910 - accuracy: 0.0645 - val_loss: 5.8939 - val_accuracy: 0.0605\n",
      "\n",
      "Epoch 00007: loss improved from 5.72792 to 5.69099, saving model to ./checkpoints/word_pred_Model4.h5\n",
      "Epoch 8/40\n",
      "29764/29764 [==============================] - 26s 876us/step - loss: 5.6580 - accuracy: 0.0654 - val_loss: 5.8789 - val_accuracy: 0.0623\n",
      "\n",
      "Epoch 00008: loss improved from 5.69099 to 5.65802, saving model to ./checkpoints/word_pred_Model4.h5\n",
      "Epoch 9/40\n",
      "29764/29764 [==============================] - 25s 832us/step - loss: 5.6296 - accuracy: 0.0671 - val_loss: 5.8679 - val_accuracy: 0.0636\n",
      "\n",
      "Epoch 00009: loss improved from 5.65802 to 5.62965, saving model to ./checkpoints/word_pred_Model4.h5\n",
      "Epoch 10/40\n",
      "29764/29764 [==============================] - 25s 829us/step - loss: 5.5977 - accuracy: 0.0688 - val_loss: 5.8586 - val_accuracy: 0.0655\n",
      "\n",
      "Epoch 00010: loss improved from 5.62965 to 5.59771, saving model to ./checkpoints/word_pred_Model4.h5\n",
      "Epoch 11/40\n",
      "29764/29764 [==============================] - 23s 761us/step - loss: 5.5611 - accuracy: 0.0707 - val_loss: 5.8512 - val_accuracy: 0.0683\n",
      "\n",
      "Epoch 00011: loss improved from 5.59771 to 5.56111, saving model to ./checkpoints/word_pred_Model4.h5\n",
      "Epoch 12/40\n",
      "29764/29764 [==============================] - 32s 1ms/step - loss: 5.5322 - accuracy: 0.0732 - val_loss: 5.8690 - val_accuracy: 0.0695\n",
      "\n",
      "Epoch 00012: loss improved from 5.56111 to 5.53218, saving model to ./checkpoints/word_pred_Model4.h5\n",
      "Epoch 13/40\n",
      "29764/29764 [==============================] - 27s 891us/step - loss: 5.5011 - accuracy: 0.0739 - val_loss: 5.8481 - val_accuracy: 0.0695\n",
      "\n",
      "Epoch 00013: loss improved from 5.53218 to 5.50109, saving model to ./checkpoints/word_pred_Model4.h5\n",
      "Epoch 14/40\n",
      "29764/29764 [==============================] - 26s 865us/step - loss: 5.4703 - accuracy: 0.0754 - val_loss: 5.8575 - val_accuracy: 0.0707\n",
      "\n",
      "Epoch 00014: loss improved from 5.50109 to 5.47026, saving model to ./checkpoints/word_pred_Model4.h5\n",
      "Epoch 15/40\n",
      "29764/29764 [==============================] - 22s 725us/step - loss: 5.4469 - accuracy: 0.0751 - val_loss: 5.8657 - val_accuracy: 0.0712\n",
      "\n",
      "Epoch 00015: loss improved from 5.47026 to 5.44691, saving model to ./checkpoints/word_pred_Model4.h5\n",
      "Epoch 16/40\n",
      "29764/29764 [==============================] - 22s 737us/step - loss: 5.4101 - accuracy: 0.0766 - val_loss: 5.8779 - val_accuracy: 0.0733\n",
      "\n",
      "Epoch 00016: loss improved from 5.44691 to 5.41013, saving model to ./checkpoints/word_pred_Model4.h5\n",
      "Epoch 17/40\n",
      "29764/29764 [==============================] - 20s 687us/step - loss: 5.3837 - accuracy: 0.0780 - val_loss: 5.8765 - val_accuracy: 0.0735\n",
      "\n",
      "Epoch 00017: loss improved from 5.41013 to 5.38372, saving model to ./checkpoints/word_pred_Model4.h5\n",
      "Epoch 18/40\n",
      "29764/29764 [==============================] - 22s 747us/step - loss: 5.3523 - accuracy: 0.0797 - val_loss: 5.9173 - val_accuracy: 0.0751\n",
      "\n",
      "Epoch 00018: loss improved from 5.38372 to 5.35233, saving model to ./checkpoints/word_pred_Model4.h5\n",
      "Epoch 19/40\n",
      "29764/29764 [==============================] - 25s 843us/step - loss: 5.3207 - accuracy: 0.0789 - val_loss: 5.9643 - val_accuracy: 0.0728\n",
      "\n",
      "Epoch 00019: loss improved from 5.35233 to 5.32065, saving model to ./checkpoints/word_pred_Model4.h5\n",
      "Epoch 20/40\n",
      "29764/29764 [==============================] - 31s 1ms/step - loss: 5.2964 - accuracy: 0.0798 - val_loss: 5.9572 - val_accuracy: 0.0749\n",
      "\n",
      "Epoch 00020: loss improved from 5.32065 to 5.29645, saving model to ./checkpoints/word_pred_Model4.h5\n",
      "Epoch 21/40\n",
      "29764/29764 [==============================] - 26s 890us/step - loss: 5.2607 - accuracy: 0.0797 - val_loss: 6.0103 - val_accuracy: 0.0746\n",
      "\n",
      "Epoch 00021: loss improved from 5.29645 to 5.26069, saving model to ./checkpoints/word_pred_Model4.h5\n",
      "Epoch 22/40\n",
      "29764/29764 [==============================] - 20s 683us/step - loss: 5.2251 - accuracy: 0.0814 - val_loss: 6.0216 - val_accuracy: 0.0748\n",
      "\n",
      "Epoch 00022: loss improved from 5.26069 to 5.22509, saving model to ./checkpoints/word_pred_Model4.h5\n",
      "Epoch 23/40\n",
      "29764/29764 [==============================] - 28s 945us/step - loss: 5.1996 - accuracy: 0.0827 - val_loss: 6.0500 - val_accuracy: 0.0797\n",
      "\n",
      "Epoch 00023: loss improved from 5.22509 to 5.19958, saving model to ./checkpoints/word_pred_Model4.h5\n",
      "Epoch 24/40\n",
      "29764/29764 [==============================] - 29s 984us/step - loss: 5.1524 - accuracy: 0.0839 - val_loss: 6.0894 - val_accuracy: 0.0751\n",
      "\n",
      "Epoch 00024: loss improved from 5.19958 to 5.15243, saving model to ./checkpoints/word_pred_Model4.h5\n",
      "Epoch 25/40\n",
      "29764/29764 [==============================] - 19s 651us/step - loss: 5.1181 - accuracy: 0.0840 - val_loss: 6.1438 - val_accuracy: 0.0770\n",
      "\n",
      "Epoch 00025: loss improved from 5.15243 to 5.11805, saving model to ./checkpoints/word_pred_Model4.h5\n",
      "Epoch 26/40\n",
      "29764/29764 [==============================] - 30s 993us/step - loss: 5.0804 - accuracy: 0.0843 - val_loss: 6.2140 - val_accuracy: 0.0778\n",
      "\n",
      "Epoch 00026: loss improved from 5.11805 to 5.08041, saving model to ./checkpoints/word_pred_Model4.h5\n",
      "Epoch 27/40\n",
      "29764/29764 [==============================] - 25s 837us/step - loss: 5.0458 - accuracy: 0.0845 - val_loss: 6.2462 - val_accuracy: 0.0758\n",
      "\n",
      "Epoch 00027: loss improved from 5.08041 to 5.04576, saving model to ./checkpoints/word_pred_Model4.h5\n",
      "Epoch 28/40\n"
     ]
    },
    {
     "name": "stdout",
     "output_type": "stream",
     "text": [
      "29764/29764 [==============================] - 23s 775us/step - loss: 4.9930 - accuracy: 0.0862 - val_loss: 6.3182 - val_accuracy: 0.0758\n",
      "\n",
      "Epoch 00028: loss improved from 5.04576 to 4.99301, saving model to ./checkpoints/word_pred_Model4.h5\n",
      "Epoch 29/40\n",
      "29764/29764 [==============================] - 22s 749us/step - loss: 4.9511 - accuracy: 0.0872 - val_loss: 6.4219 - val_accuracy: 0.0754\n",
      "\n",
      "Epoch 00029: loss improved from 4.99301 to 4.95105, saving model to ./checkpoints/word_pred_Model4.h5\n",
      "Epoch 30/40\n",
      "29764/29764 [==============================] - 26s 883us/step - loss: 4.9058 - accuracy: 0.0883 - val_loss: 6.4180 - val_accuracy: 0.0729\n",
      "\n",
      "Epoch 00030: loss improved from 4.95105 to 4.90577, saving model to ./checkpoints/word_pred_Model4.h5\n",
      "Epoch 31/40\n",
      "29764/29764 [==============================] - 31s 1ms/step - loss: 4.8541 - accuracy: 0.0884 - val_loss: 6.5112 - val_accuracy: 0.0739\n",
      "\n",
      "Epoch 00031: loss improved from 4.90577 to 4.85407, saving model to ./checkpoints/word_pred_Model4.h5\n",
      "Epoch 32/40\n",
      "29764/29764 [==============================] - 22s 739us/step - loss: 4.8040 - accuracy: 0.0904 - val_loss: 6.5752 - val_accuracy: 0.0694\n",
      "\n",
      "Epoch 00032: loss improved from 4.85407 to 4.80396, saving model to ./checkpoints/word_pred_Model4.h5\n",
      "Epoch 33/40\n",
      "29764/29764 [==============================] - 22s 736us/step - loss: 4.7331 - accuracy: 0.0956 - val_loss: 6.6955 - val_accuracy: 0.0692\n",
      "\n",
      "Epoch 00033: loss improved from 4.80396 to 4.73308, saving model to ./checkpoints/word_pred_Model4.h5\n",
      "Epoch 34/40\n",
      "29764/29764 [==============================] - 26s 861us/step - loss: 4.6859 - accuracy: 0.0957 - val_loss: 6.8548 - val_accuracy: 0.0716\n",
      "\n",
      "Epoch 00034: loss improved from 4.73308 to 4.68595, saving model to ./checkpoints/word_pred_Model4.h5\n",
      "Epoch 35/40\n",
      "29764/29764 [==============================] - 25s 847us/step - loss: 4.6214 - accuracy: 0.1012 - val_loss: 6.9248 - val_accuracy: 0.0673\n",
      "\n",
      "Epoch 00035: loss improved from 4.68595 to 4.62141, saving model to ./checkpoints/word_pred_Model4.h5\n",
      "Epoch 36/40\n",
      "29764/29764 [==============================] - 23s 783us/step - loss: 4.5580 - accuracy: 0.1035 - val_loss: 7.1305 - val_accuracy: 0.0709\n",
      "\n",
      "Epoch 00036: loss improved from 4.62141 to 4.55801, saving model to ./checkpoints/word_pred_Model4.h5\n",
      "Epoch 37/40\n",
      "29764/29764 [==============================] - 25s 829us/step - loss: 4.4965 - accuracy: 0.1085 - val_loss: 7.1038 - val_accuracy: 0.0655\n",
      "\n",
      "Epoch 00037: loss improved from 4.55801 to 4.49647, saving model to ./checkpoints/word_pred_Model4.h5\n",
      "Epoch 38/40\n",
      "29764/29764 [==============================] - 24s 821us/step - loss: 4.4227 - accuracy: 0.1125 - val_loss: 7.2615 - val_accuracy: 0.0628\n",
      "\n",
      "Epoch 00038: loss improved from 4.49647 to 4.42268, saving model to ./checkpoints/word_pred_Model4.h5\n",
      "Epoch 39/40\n",
      "29764/29764 [==============================] - 27s 893us/step - loss: 4.3495 - accuracy: 0.1196 - val_loss: 7.5145 - val_accuracy: 0.0631\n",
      "\n",
      "Epoch 00039: loss improved from 4.42268 to 4.34949, saving model to ./checkpoints/word_pred_Model4.h5\n",
      "Epoch 40/40\n",
      "29764/29764 [==============================] - 24s 816us/step - loss: 4.2845 - accuracy: 0.1230 - val_loss: 7.6159 - val_accuracy: 0.0591\n",
      "\n",
      "Epoch 00040: loss improved from 4.34949 to 4.28446, saving model to ./checkpoints/word_pred_Model4.h5\n"
     ]
    }
   ],
   "source": [
    "model = create_model(vocabulary_size+1,seq_len)\n",
    "path = './checkpoints/word_pred_Model4.h5'\n",
    "checkpoint = ModelCheckpoint(path, monitor='loss', verbose=1, save_best_only=True, mode='min')\n",
    "history = model.fit(train_inputs,train_targets,batch_size=128,epochs=40,verbose=1,callbacks=[checkpoint], validation_split=0.33)\n",
    "model.save('machado_modell4.h5')"
   ]
  },
  {
   "cell_type": "code",
   "execution_count": 12,
   "metadata": {},
   "outputs": [
    {
     "data": {
      "image/png": "[encoded data removed]",
      "text/plain": [
       "<Figure size 640x480 with 1 Axes>"
      ]
     },
     "metadata": {},
     "output_type": "display_data"
    }
   ],
   "source": [
    "from matplotlib import pyplot\n",
    "\n",
    "# history = model.fit(X, Y, epochs=100, validation_data=(valX, valY))\n",
    "pyplot.style.use(\"classic\")\n",
    "pyplot.grid()\n",
    "pyplot.plot(history.history['loss'])\n",
    "pyplot.plot(history.history['val_loss'])\n",
    "pyplot.title('model train vs validation loss')\n",
    "pyplot.ylabel('loss')\n",
    "pyplot.xlabel('epoch')\n",
    "pyplot.legend(['train', 'validation'], loc='upper right')\n",
    "pyplot.savefig(\"validation_loss_dropout.pdf\")"
   ]
  }
 ],
 "metadata": {
  "kernelspec": {
   "display_name": "Python 3",
   "language": "python",
   "name": "python3"
  },
  "language_info": {
   "codemirror_mode": {
    "name": "ipython",
    "version": 3
   },
   "file_extension": ".py",
   "mimetype": "text/x-python",
   "name": "python",
   "nbconvert_exporter": "python",
   "pygments_lexer": "ipython3",
   "version": "3.7.5"
  }
 },
 "nbformat": 4,
 "nbformat_minor": 2
}
